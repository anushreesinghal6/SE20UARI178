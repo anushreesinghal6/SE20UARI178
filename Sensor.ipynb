{
  "nbformat": 4,
  "nbformat_minor": 0,
  "metadata": {
    "colab": {
      "provenance": []
    },
    "kernelspec": {
      "name": "python3",
      "display_name": "Python 3"
    },
    "language_info": {
      "name": "python"
    }
  },
  "cells": [
    {
      "cell_type": "code",
      "execution_count": null,
      "metadata": {
        "id": "yAvVaKEvGdVy"
      },
      "outputs": [],
      "source": [
        "import Adafruit_DHT\n",
        "import time\n",
        "\n",
        "# Define sensor type and GPIO pin\n",
        "sensor = Adafruit_DHT.DHT22\n",
        "gpio_pin = 4\n",
        "\n",
        "# Number of iterations\n",
        "num_iterations = 30\n",
        "\n",
        "# Read data in a loop\n",
        "for i in range(num_iterations):\n",
        "    try:\n",
        "        # Attempt to read data from the sensor\n",
        "        humidity, temperature = Adafruit_DHT.read_retry(sensor, gpio_pin)\n",
        "\n",
        "        if humidity is not None and temperature is not None:\n",
        "            print(f\"Iteration {i + 1}:\")\n",
        "            print(f\"Temperature: {temperature:.2f}°C\")\n",
        "            print(f\"Humidity: {humidity:.2f}%\")\n",
        "        else:\n",
        "            print(\"Failed to retrieve data from the sensor. Check the connection.\")\n",
        "\n",
        "        # Wait for a brief interval (e.g., 1 second) before the next iteration\n",
        "        time.sleep(1)\n",
        "\n",
        "    except KeyboardInterrupt:\n",
        "        print(\"Data acquisition stopped by the user.\")\n",
        "\n",
        "    except Exception as e:\n",
        "        print(f\"An error occurred: {str(e)}\")\n",
        "\n"
      ]
    }
  ]
}